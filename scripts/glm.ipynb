{
 "cells": [
  {
   "cell_type": "markdown",
   "metadata": {},
   "source": [
    "# Implement GLM and Contrast Function\n",
    "A generalized linear model is used to find where brain activity changes given different tasks\n",
    "The contrast function compares the brain activity between target and general task.\n",
    "\n",
    "We are interested in the following contrast:\n",
    "- Differentiate brain region activity between target and general task during audio condition\n",
    "- Differentiate brain region activity between target and general task during visual condition\n",
    "- Differentiate brain region activity between audio and visual condition after contrast is applied to both conditions"
   ]
  },
  {
   "cell_type": "code",
   "execution_count": 108,
   "metadata": {},
   "outputs": [],
   "source": [
    "# import dependencies\n",
    "from nilearn.glm.first_level import FirstLevelModel\n",
    "import numpy as np\n",
    "import nibabel as nib\n",
    "import nilearn.masking as masking\n",
    "from nilearn.image import mean_img\n",
    "import os\n",
    "import glob\n",
    "import pandas as pd\n",
    "from nilearn.plotting import plot_design_matrix"
   ]
  },
  {
   "cell_type": "code",
   "execution_count": 109,
   "metadata": {},
   "outputs": [],
   "source": [
    "# Implement glm base model\n",
    "def fit_glm(fmri_img, events_data, tr):\n",
    "    \"\"\" \n",
    "    Fit a glm to the fmri data\n",
    "    \"\"\"\n",
    "\n",
    "    mask = masking.compute_epi_mask(\n",
    "        fmri_img,\n",
    "        lower_cutoff = 0.1,\n",
    "        upper_cutoff = 0.9,\n",
    "        connected = False,\n",
    "        opening = False\n",
    "    )\n",
    "\n",
    "    model = FirstLevelModel(\n",
    "        t_r=tr,\n",
    "        mask_img = mask,\n",
    "        standardize = True,\n",
    "        minimize_memory = True,\n",
    "    )\n",
    "    \n",
    "    glm = model.fit(fmri_img, events = events_data)\n",
    "    \n",
    "    return glm"
   ]
  },
  {
   "cell_type": "code",
   "execution_count": 110,
   "metadata": {},
   "outputs": [],
   "source": [
    "# Categorize stimuli into target and general task\n",
    "def categorize_stimuli(events_data, data_path):\n",
    "    \"\"\" \n",
    "    Categorize stimuli based on the filename patterns\n",
    "    For visual data: 'inh' = general task, 'sel' = target task\n",
    "    For audio data: NA\n",
    "    events_data: pandas dataframe pulled from the events.tsv file\n",
    "    data_path: path to the visual folder \n",
    "    \"\"\"\n",
    "    if 'visual' in data_path: # if there is a data file with visual in the path\n",
    "        if 'inh' in data_path:\n",
    "            events_data['condition'] = 'general' # inhibition task\n",
    "        elif 'sel' in data_path:\n",
    "            events_data['condition'] = 'target' # selection task\n",
    "\n",
    "    #TODO: Need to add audio data categorization\n",
    "    \n",
    "    return events_data"
   ]
  },
  {
   "cell_type": "code",
   "execution_count": 111,
   "metadata": {},
   "outputs": [],
   "source": [
    "# Implement contrast function\n",
    "def contrast_glm_stimuli(glm, events_data, file_path, contrast_def = {'target': 1, 'general': -1}): \n",
    "    \"\"\" \n",
    "    Apply a contrast to the glm results \n",
    "    \"\"\"\n",
    "    events = categorize_stimuli(events_data, file_path)\n",
    "\n",
    "    # convert dictionary to array\n",
    "    conditions = sorted(contrast_def.keys()) # create a list of conditions\n",
    "    contrast_vector = np.array([contrast_def[cond] for cond in conditions])\n",
    "\n",
    "    print(\"Conditions: \", conditions) \n",
    "    print(\"Contrast vector: \", contrast_vector)\n",
    "\n",
    "    contrast = glm.compute_contrast(contrast_vector)\n",
    "    return contrast\n",
    "\n",
    "def contrast_glm_conditions(glm, contrast_def = {'target': 1, 'general': -1}):\n",
    "    \"\"\" \n",
    "    Apply a contrast to the glm results\n",
    "    \"\"\"\n",
    "    conditions = sorted(contrast_def.keys()) # create a list of conditions\n",
    "    contrast_vector = np.array([contrast_def[cond] for cond in conditions])\n",
    "    \n",
    "    contrast = glm.compute_contrast(contrast_vector)\n",
    "    return contrast"
   ]
  },
  {
   "cell_type": "code",
   "execution_count": 112,
   "metadata": {},
   "outputs": [],
   "source": [
    "# function to get design matrix\n",
    "def create_design_matrix(glm):\n",
    "    \"\"\" \n",
    "    Create a design matrix for the glm results\n",
    "    \"\"\"\n",
    "     # get design matrix\n",
    "    design_matrix = glm.design_matrices_[0]\n",
    "    # set keys for the design matrix\n",
    "    design_matrix.columns = ['constant', 'target', 'general', 'drift_1', 'drift_2', 'drift_3']\n",
    "    \n",
    "    return design_matrix\n"
   ]
  },
  {
   "cell_type": "code",
   "execution_count": 113,
   "metadata": {},
   "outputs": [
    {
     "name": "stderr",
     "output_type": "stream",
     "text": [
      "/Users/jaslavie/Desktop/attention/venv/lib/python3.11/site-packages/nilearn/glm/first_level/experimental_paradigm.py:129: UserWarning: 'trial_type' column not found in the given events data.\n",
      "  warnings.warn(\n",
      "/Users/jaslavie/Desktop/attention/venv/lib/python3.11/site-packages/nilearn/glm/first_level/experimental_paradigm.py:167: UserWarning: The following unexpected columns in events data will be ignored: errors_total, response_time_avg, block_type_intended, NR, block_type_performed, correct_total, block, false-go, false-no_go, comments\n",
      "  warnings.warn(\n"
     ]
    },
    {
     "name": "stdout",
     "output_type": "stream",
     "text": [
      "Conditions:  ['general', 'target']\n",
      "Contrast vector:  [-1  1]\n"
     ]
    },
    {
     "name": "stderr",
     "output_type": "stream",
     "text": [
      "/Users/jaslavie/Desktop/attention/venv/lib/python3.11/site-packages/nilearn/glm/contrasts.py:108: UserWarning: t contrasts should be of length P=6, but it has length 2. The rest of the contrast was padded with zeros.\n",
      "  reg = regression_result[label_].Tcontrast(con_val)\n"
     ]
    },
    {
     "data": {
      "text/plain": [
       "<Axes: label='conditions', ylabel='scan number'>"
      ]
     },
     "execution_count": 113,
     "metadata": {},
     "output_type": "execute_result"
    },
    {
     "data": {
      "image/png": "[encoded data removed]",
      "text/plain": [
       "<Figure size 238x1000 with 1 Axes>"
      ]
     },
     "metadata": {},
     "output_type": "display_data"
    }
   ],
   "source": [
    "# function to run contrast and glm\n",
    "def run_glm_contrast(fmri_img, data_path, tr):\n",
    "    \"\"\" \n",
    "    Run the glm on the fmri data and apply contrast\n",
    "    \"\"\"\n",
    "    pattern = os.path.join(data_path, 'sub-*/func/*events.tsv')\n",
    "    events_files = glob.glob(pattern, recursive=True)\n",
    "\n",
    "    if not events_files:\n",
    "        raise ValueError(f\"No events files found in {pattern}\")\n",
    "    \n",
    "    events_data = pd.read_csv(events_files[0], sep='\\t')\n",
    "    \n",
    "    # Get GLM object\n",
    "    glm = fit_glm(fmri_img, events_data, tr)\n",
    "    \n",
    "    # Get design matrix\n",
    "    design_matrix = glm.design_matrices_[0]\n",
    "    design_matrix.columns = ['constant', 'target', 'general', 'drift_1', 'drift_2', 'drift_3']\n",
    "    \n",
    "    # Compute contrasts\n",
    "    contrast_stimuli = contrast_glm_stimuli(glm, events_data, data_path)\n",
    "    contrast_conditions = contrast_glm_conditions(glm)\n",
    "    \n",
    "    return glm, design_matrix, contrast_stimuli, contrast_conditions\n",
    "\n",
    "# Run GLM and get results\n",
    "glm, design_matrix, contrast_stimuli, contrast_conditions = run_glm_contrast(fmri_img, data_path, tr)\n",
    "\n",
    "# Plot design matrix (not the contrast)\n",
    "plot_design_matrix(design_matrix)"
   ]
  },
  {
   "cell_type": "code",
   "execution_count": 114,
   "metadata": {},
   "outputs": [
    {
     "name": "stderr",
     "output_type": "stream",
     "text": [
      "/Users/jaslavie/Desktop/attention/venv/lib/python3.11/site-packages/nilearn/glm/first_level/experimental_paradigm.py:129: UserWarning: 'trial_type' column not found in the given events data.\n",
      "  warnings.warn(\n",
      "/Users/jaslavie/Desktop/attention/venv/lib/python3.11/site-packages/nilearn/glm/first_level/experimental_paradigm.py:167: UserWarning: The following unexpected columns in events data will be ignored: errors_total, response_time_avg, block_type_intended, NR, block_type_performed, correct_total, block, false-go, false-no_go, comments\n",
      "  warnings.warn(\n"
     ]
    },
    {
     "name": "stdout",
     "output_type": "stream",
     "text": [
      "Conditions:  ['general', 'target']\n",
      "Contrast vector:  [-1  1]\n"
     ]
    },
    {
     "name": "stderr",
     "output_type": "stream",
     "text": [
      "/Users/jaslavie/Desktop/attention/venv/lib/python3.11/site-packages/nilearn/glm/contrasts.py:108: UserWarning: t contrasts should be of length P=6, but it has length 2. The rest of the contrast was padded with zeros.\n",
      "  reg = regression_result[label_].Tcontrast(con_val)\n"
     ]
    },
    {
     "data": {
      "text/plain": [
       "(FirstLevelModel(mask_img=<nibabel.nifti1.Nifti1Image object at 0x2923441d0>,\n",
       "                 t_r=1.5),\n",
       "        constant    target   general   drift_1   drift_2  drift_3\n",
       " 0.0    0.000000  0.113222  0.113205  0.113176  0.113136      1.0\n",
       " 1.5    0.004071  0.113176  0.113021  0.112763  0.112402      1.0\n",
       " 3.0    0.107222  0.113084  0.112654  0.111939  0.110939      1.0\n",
       " 4.5    0.430055  0.112947  0.112105  0.110706  0.108757      1.0\n",
       " 6.0    0.837678  0.112763  0.111373  0.109069  0.105870      1.0\n",
       " ...         ...       ...       ...       ...       ...      ...\n",
       " 226.5  1.000000 -0.112763  0.111373 -0.109069  0.105870      1.0\n",
       " 228.0  1.000000 -0.112947  0.112105 -0.110706  0.108757      1.0\n",
       " 229.5  1.000000 -0.113084  0.112654 -0.111939  0.110939      1.0\n",
       " 231.0  1.000000 -0.113176  0.113021 -0.112763  0.112402      1.0\n",
       " 232.5  1.000000 -0.113222  0.113205 -0.113176  0.113136      1.0\n",
       " \n",
       " [156 rows x 6 columns],\n",
       " <nibabel.nifti1.Nifti1Image at 0x28b1313d0>,\n",
       " <nibabel.nifti1.Nifti1Image at 0x2922deb90>)"
      ]
     },
     "execution_count": 114,
     "metadata": {},
     "output_type": "execute_result"
    }
   ],
   "source": [
    "# Define parameters and call functions\n",
    "data_path = \"../data/visual\"\n",
    "file_path = \"../data/visual\"\n",
    "fmri_data = \"../results/visual/cleaned_data_visual.nii.gz\" #TODO: need to add audio data\n",
    "fmri_img = nib.load(fmri_data)\n",
    "tr = 1.5 # test with visual data\n",
    "run_glm_contrast(fmri_img, data_path, tr)\n"
   ]
  }
 ],
 "metadata": {
  "kernelspec": {
   "display_name": "venv",
   "language": "python",
   "name": "python3"
  },
  "language_info": {
   "codemirror_mode": {
    "name": "ipython",
    "version": 3
   },
   "file_extension": ".py",
   "mimetype": "text/x-python",
   "name": "python",
   "nbconvert_exporter": "python",
   "pygments_lexer": "ipython3",
   "version": "3.11.6"
  }
 },
 "nbformat": 4,
 "nbformat_minor": 2
}
