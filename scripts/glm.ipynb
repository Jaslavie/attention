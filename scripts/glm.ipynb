{
 "cells": [
  {
   "cell_type": "markdown",
   "metadata": {},
   "source": [
    "# Implement GLM and Contrast Function\n",
    "A generalized linear model is used to find where brain activity changes given different tasks\n",
    "The contrast function compares the brain activity between target and general task.\n",
    "\n",
    "We are interested in the following contrast:\n",
    "- Differentiate brain region activity between target and general task during audio condition\n",
    "- Differentiate brain region activity between target and general task during visual condition\n",
    "- Differentiate brain region activity between audio and visual condition after contrast is applied to both conditions"
   ]
  },
  {
   "cell_type": "code",
   "execution_count": 15,
   "metadata": {},
   "outputs": [],
   "source": [
    "# import dependencies\n",
    "from nilearn.glm.first_level import FirstLevelModel\n",
    "import numpy as np\n",
    "import nibabel as nib\n",
    "import nilearn.masking as masking\n",
    "from nilearn.image import mean_img\n",
    "import os\n",
    "import glob\n",
    "import pandas as pd\n",
    "from nilearn.plotting import plot_design_matrix"
   ]
  },
  {
   "cell_type": "code",
   "execution_count": 16,
   "metadata": {},
   "outputs": [],
   "source": [
    "# Categorize stimuli into target and general task\n",
    "def categorize_stimuli(data_path):\n",
    "    \"\"\" \n",
    "    Categorize stimuli based on the filename patterns in the events.tsv file\n",
    "    For visual data: 'inh' = general task, 'sel' = target task\n",
    "    events_data: pandas dataframe pulled from the events.tsv file\n",
    "    data_path: path to the visual folder \n",
    "    \"\"\"\n",
    "\n",
    "    pattern = os.path.join(data_path, 'sub-*/func/*events.tsv')\n",
    "    event_files = glob.glob(pattern, recursive=True)\n",
    "    if not event_files:\n",
    "        raise ValueError(f\"No events files found in {pattern}\")\n",
    "    print(\"event_files: \", event_files)\n",
    "\n",
    "    # initialize empty list to store all events\n",
    "    all_events = []\n",
    "\n",
    "    for file_path in event_files:\n",
    "        # load events file as a dataframe\n",
    "        events = pd.read_csv(file_path, sep='\\t')\n",
    "        # categorize stimuli\n",
    "        if 'Inh' in file_path:\n",
    "            events['condition'] = 'general'\n",
    "        elif 'Sel' in file_path:\n",
    "            events['condition'] = 'target'      \n",
    "        \n",
    "        events['subject'] = os.path.basename(file_path).split('_')[0] # get the id of the subject\n",
    "        all_events.append(events) # append the events to the list\n",
    "    \n",
    "    # concatenate all events into a single dataframe\n",
    "    categorized_events = pd.concat(all_events, ignore_index=True)\n",
    "\n",
    "    # print summary\n",
    "    print(\"\\nData Summary:\")\n",
    "    print(\"Total number of events:\", len(categorized_events))\n",
    "    print(\"Events by condition:\")\n",
    "    print(categorized_events['condition'].value_counts())\n",
    "    print(\"\\nEvents by subject:\")\n",
    "    print(categorized_events['subject'].value_counts())\n",
    "    \n",
    "    return categorized_events"
   ]
  },
  {
   "cell_type": "code",
   "execution_count": 17,
   "metadata": {},
   "outputs": [],
   "source": [
    "# Implement glm base model\n",
    "def fit_glm(fmri_img, categorized_events, tr):\n",
    "    \"\"\" \n",
    "    Fit a glm to the fmri data and the categorized events data\n",
    "    \"\"\"\n",
    "\n",
    "    mask = masking.compute_epi_mask(\n",
    "        fmri_img,\n",
    "        lower_cutoff = 0.1,\n",
    "        upper_cutoff = 0.9,\n",
    "        connected = False,\n",
    "        opening = False\n",
    "    )\n",
    "\n",
    "    model = FirstLevelModel(\n",
    "        t_r=tr,\n",
    "        mask_img = mask,\n",
    "        standardize = True,\n",
    "        minimize_memory = True,\n",
    "    )\n",
    "    \n",
    "    glm = model.fit(fmri_img, events = categorized_events)\n",
    "    \n",
    "    return glm"
   ]
  },
  {
   "cell_type": "code",
   "execution_count": 18,
   "metadata": {},
   "outputs": [],
   "source": [
    "# Implement contrast function\n",
    "def contrast_glm_stimuli(glm, categorized_events, data_path, contrast_def = {'target': 1, 'general': -1}): \n",
    "    \"\"\" \n",
    "    Apply a contrast to the glm results \n",
    "    \"\"\"\n",
    "    events = categorize_stimuli(data_path)\n",
    "\n",
    "    # convert dictionary to array\n",
    "    conditions = sorted(contrast_def.keys()) # create a list of conditions\n",
    "    contrast_vector = np.array([contrast_def[cond] for cond in conditions])\n",
    "\n",
    "    print(\"Conditions: \", conditions) \n",
    "    print(\"Contrast vector: \", contrast_vector)\n",
    "\n",
    "    contrast = glm.compute_contrast(contrast_vector)\n",
    "    return contrast\n",
    "\n",
    "def contrast_glm_conditions(glm, contrast_def = {'target': 1, 'general': -1}):\n",
    "    \"\"\" \n",
    "    Apply a contrast to the glm results\n",
    "    \"\"\"\n",
    "    conditions = sorted(contrast_def.keys()) # create a list of conditions\n",
    "    contrast_vector = np.array([contrast_def[cond] for cond in conditions])\n",
    "    \n",
    "    contrast = glm.compute_contrast(contrast_vector)\n",
    "    return contrast"
   ]
  },
  {
   "cell_type": "code",
   "execution_count": 19,
   "metadata": {},
   "outputs": [],
   "source": [
    "# function to get design matrix\n",
    "def create_design_matrix(glm):\n",
    "    \"\"\" \n",
    "    Create a design matrix for the glm results\n",
    "    \"\"\"\n",
    "     # get design matrix\n",
    "    design_matrix = glm.design_matrices_[0]\n",
    "    # set keys for the design matrix\n",
    "    design_matrix.columns = ['constant', 'target', 'general', 'drift_1', 'drift_2', 'drift_3']\n",
    "    \n",
    "    return design_matrix\n"
   ]
  },
  {
   "cell_type": "code",
   "execution_count": 20,
   "metadata": {},
   "outputs": [],
   "source": [
    "# Define parameters \n",
    "data_path = \"../data/visual\" # path to data folder\n",
    "fmri_data = \"../results/visual/cleaned_data_visual.nii.gz\" #TODO: need to add audio data\n",
    "fmri_img = nib.load(fmri_data)\n",
    "tr = 1.5 # test with visual data"
   ]
  },
  {
   "cell_type": "code",
   "execution_count": 21,
   "metadata": {},
   "outputs": [
    {
     "name": "stdout",
     "output_type": "stream",
     "text": [
      "event_files:  ['../data/visual/sub-213/func/sub-213_task-Conj1Inh_acq-a_events.tsv', '../data/visual/sub-213/func/sub-213_task-Feat19Sel_acq-b_events.tsv', '../data/visual/sub-213/func/sub-213_task-Conj9Inh_acq-a_events.tsv', '../data/visual/sub-213/func/sub-213_task-Conj19Sel_acq-a_events.tsv', '../data/visual/sub-213/func/sub-213_task-Feat1Inh_acq-b_events.tsv', '../data/visual/sub-213/func/sub-213_task-Feat9Inh_acq-b_events.tsv', '../data/visual/sub-214/func/sub-214_task-Conj19Sel_acq-a_events.tsv', '../data/visual/sub-214/func/sub-214_task-Conj9Inh_acq-a_events.tsv', '../data/visual/sub-214/func/sub-214_task-Conj1Inh_acq-a_events.tsv', '../data/visual/sub-214/func/sub-214_task-Feat9Inh_acq-a_events.tsv', '../data/visual/sub-219/func/sub-219_task-Feat9Inh_acq-a_events.tsv', '../data/visual/sub-219/func/sub-219_task-Feat19Sel_acq-a_events.tsv', '../data/visual/sub-219/func/sub-219_task-Feat1Inh_acq-a_events.tsv', '../data/visual/sub-219/func/sub-219_task-Conj9Inh_acq-b_events.tsv', '../data/visual/sub-219/func/sub-219_task-Conj1Inh_acq-b_events.tsv', '../data/visual/sub-219/func/sub-219_task-Conj19Sel_acq-b_events.tsv', '../data/visual/sub-221/func/sub-221_task-Conj1Inh_acq-b_events.tsv', '../data/visual/sub-221/func/sub-221_task-Conj9Inh_acq-b_events.tsv', '../data/visual/sub-221/func/sub-221_task-Conj19Sel_acq-b_events.tsv', '../data/visual/sub-220/func/sub-220_task-Feat1Inh_acq-b_events.tsv', '../data/visual/sub-220/func/sub-220_task-Feat19Sel_acq-b_events.tsv', '../data/visual/sub-220/func/sub-220_task-Feat9Inh_acq-b_events.tsv', '../data/visual/sub-220/func/sub-220_task-Conj19Sel_acq-a_events.tsv', '../data/visual/sub-220/func/sub-220_task-Conj1Inh_acq-a_events.tsv', '../data/visual/sub-220/func/sub-220_task-Conj9Inh_acq-a_events.tsv', '../data/visual/sub-218/func/sub-218_task-Feat1Inh_acq-a_events.tsv', '../data/visual/sub-218/func/sub-218_task-Conj19Sel_acq-b_events.tsv', '../data/visual/sub-218/func/sub-218_task-Feat9Inh_acq-a_events.tsv', '../data/visual/sub-218/func/sub-218_task-Feat19Sel_acq-a_events.tsv', '../data/visual/sub-218/func/sub-218_task-Conj1Inh_acq-b_events.tsv', '../data/visual/sub-218/func/sub-218_task-Conj9Inh_acq-b_events.tsv']\n",
      "\n",
      "Data Summary:\n",
      "Total number of events: 372\n",
      "Events by condition:\n",
      "condition\n",
      "general    252\n",
      "target     120\n",
      "Name: count, dtype: int64\n",
      "\n",
      "Events by subject:\n",
      "subject\n",
      "sub-213    72\n",
      "sub-219    72\n",
      "sub-220    72\n",
      "sub-218    72\n",
      "sub-214    48\n",
      "sub-221    36\n",
      "Name: count, dtype: int64\n",
      "categorized_events:        onset  duration  block block_type_intended block_type_performed  \\\n",
      "0      0.00     38.69      1                  go                   go   \n",
      "1     38.69     38.69      2               no-go                no-go   \n",
      "2     77.38     38.69      3                  go                   go   \n",
      "3    116.07     38.69      4               no-go                no-go   \n",
      "4    154.76     38.69      5                  go                   go   \n",
      "..      ...       ...    ...                 ...                  ...   \n",
      "367  271.46     38.78      8               no-go                no-go   \n",
      "368  310.24     38.78      9                  go                   go   \n",
      "369  349.02     38.78     10               no-go                no-go   \n",
      "370  387.80     38.78     11                  go                   go   \n",
      "371  426.58     38.78     12               no-go                no-go   \n",
      "\n",
      "     response_time_avg  correct_total  errors_total  false-no_go  false-go  \\\n",
      "0               0.3461           18.0             0          NaN       NaN   \n",
      "1               0.4628           18.0             0          NaN       NaN   \n",
      "2               0.3092           18.0             0          NaN       NaN   \n",
      "3               0.4922           17.0             1          NaN       1.0   \n",
      "4               0.3386           18.0             0          NaN       NaN   \n",
      "..                 ...            ...           ...          ...       ...   \n",
      "367             0.7776           17.0             1          NaN       1.0   \n",
      "368             0.4637           18.0             0          NaN       NaN   \n",
      "369             0.7141           17.0             1          NaN       1.0   \n",
      "370             0.4489           18.0             0          NaN       NaN   \n",
      "371             0.7689           17.0             1          NaN       1.0   \n",
      "\n",
      "     NR comments condition  subject  false-neg  false-pos  \n",
      "0   NaN      NaN   general  sub-213        NaN        NaN  \n",
      "1   NaN      NaN   general  sub-213        NaN        NaN  \n",
      "2   NaN      NaN   general  sub-213        NaN        NaN  \n",
      "3   NaN      NaN   general  sub-213        NaN        NaN  \n",
      "4   NaN      NaN   general  sub-213        NaN        NaN  \n",
      "..   ..      ...       ...      ...        ...        ...  \n",
      "367 NaN      NaN   general  sub-218        NaN        NaN  \n",
      "368 NaN      NaN   general  sub-218        NaN        NaN  \n",
      "369 NaN      NaN   general  sub-218        NaN        NaN  \n",
      "370 NaN      NaN   general  sub-218        NaN        NaN  \n",
      "371 NaN      NaN   general  sub-218        NaN        NaN  \n",
      "\n",
      "[372 rows x 16 columns]\n"
     ]
    },
    {
     "name": "stderr",
     "output_type": "stream",
     "text": [
      "/Users/jaslavie/Desktop/attention/venv/lib/python3.11/site-packages/nilearn/glm/first_level/experimental_paradigm.py:129: UserWarning: 'trial_type' column not found in the given events data.\n",
      "  warnings.warn(\n",
      "/Users/jaslavie/Desktop/attention/venv/lib/python3.11/site-packages/nilearn/glm/first_level/experimental_paradigm.py:167: UserWarning: The following unexpected columns in events data will be ignored: block_type_intended, NR, false-neg, condition, false-pos, comments, block, errors_total, response_time_avg, false-no_go, block_type_performed, correct_total, subject, false-go\n",
      "  warnings.warn(\n",
      "/Users/jaslavie/Desktop/attention/venv/lib/python3.11/site-packages/nilearn/glm/first_level/experimental_paradigm.py:198: UserWarning: Duplicated events were detected. Amplitudes of these events will be summed. You might want to verify your inputs.\n",
      "  warnings.warn(\n"
     ]
    },
    {
     "name": "stdout",
     "output_type": "stream",
     "text": [
      "columns:  ['dummy', 'drift_1', 'drift_2', 'drift_3', 'drift_4', 'constant']\n",
      "event_files:  ['../data/visual/sub-213/func/sub-213_task-Conj1Inh_acq-a_events.tsv', '../data/visual/sub-213/func/sub-213_task-Feat19Sel_acq-b_events.tsv', '../data/visual/sub-213/func/sub-213_task-Conj9Inh_acq-a_events.tsv', '../data/visual/sub-213/func/sub-213_task-Conj19Sel_acq-a_events.tsv', '../data/visual/sub-213/func/sub-213_task-Feat1Inh_acq-b_events.tsv', '../data/visual/sub-213/func/sub-213_task-Feat9Inh_acq-b_events.tsv', '../data/visual/sub-214/func/sub-214_task-Conj19Sel_acq-a_events.tsv', '../data/visual/sub-214/func/sub-214_task-Conj9Inh_acq-a_events.tsv', '../data/visual/sub-214/func/sub-214_task-Conj1Inh_acq-a_events.tsv', '../data/visual/sub-214/func/sub-214_task-Feat9Inh_acq-a_events.tsv', '../data/visual/sub-219/func/sub-219_task-Feat9Inh_acq-a_events.tsv', '../data/visual/sub-219/func/sub-219_task-Feat19Sel_acq-a_events.tsv', '../data/visual/sub-219/func/sub-219_task-Feat1Inh_acq-a_events.tsv', '../data/visual/sub-219/func/sub-219_task-Conj9Inh_acq-b_events.tsv', '../data/visual/sub-219/func/sub-219_task-Conj1Inh_acq-b_events.tsv', '../data/visual/sub-219/func/sub-219_task-Conj19Sel_acq-b_events.tsv', '../data/visual/sub-221/func/sub-221_task-Conj1Inh_acq-b_events.tsv', '../data/visual/sub-221/func/sub-221_task-Conj9Inh_acq-b_events.tsv', '../data/visual/sub-221/func/sub-221_task-Conj19Sel_acq-b_events.tsv', '../data/visual/sub-220/func/sub-220_task-Feat1Inh_acq-b_events.tsv', '../data/visual/sub-220/func/sub-220_task-Feat19Sel_acq-b_events.tsv', '../data/visual/sub-220/func/sub-220_task-Feat9Inh_acq-b_events.tsv', '../data/visual/sub-220/func/sub-220_task-Conj19Sel_acq-a_events.tsv', '../data/visual/sub-220/func/sub-220_task-Conj1Inh_acq-a_events.tsv', '../data/visual/sub-220/func/sub-220_task-Conj9Inh_acq-a_events.tsv', '../data/visual/sub-218/func/sub-218_task-Feat1Inh_acq-a_events.tsv', '../data/visual/sub-218/func/sub-218_task-Conj19Sel_acq-b_events.tsv', '../data/visual/sub-218/func/sub-218_task-Feat9Inh_acq-a_events.tsv', '../data/visual/sub-218/func/sub-218_task-Feat19Sel_acq-a_events.tsv', '../data/visual/sub-218/func/sub-218_task-Conj1Inh_acq-b_events.tsv', '../data/visual/sub-218/func/sub-218_task-Conj9Inh_acq-b_events.tsv']\n",
      "\n",
      "Data Summary:\n",
      "Total number of events: 372\n",
      "Events by condition:\n",
      "condition\n",
      "general    252\n",
      "target     120\n",
      "Name: count, dtype: int64\n",
      "\n",
      "Events by subject:\n",
      "subject\n",
      "sub-213    72\n",
      "sub-219    72\n",
      "sub-220    72\n",
      "sub-218    72\n",
      "sub-214    48\n",
      "sub-221    36\n",
      "Name: count, dtype: int64\n",
      "Conditions:  ['general', 'target']\n",
      "Contrast vector:  [-1  1]\n"
     ]
    },
    {
     "name": "stderr",
     "output_type": "stream",
     "text": [
      "/Users/jaslavie/Desktop/attention/venv/lib/python3.11/site-packages/nilearn/glm/contrasts.py:108: UserWarning: t contrasts should be of length P=6, but it has length 2. The rest of the contrast was padded with zeros.\n",
      "  reg = regression_result[label_].Tcontrast(con_val)\n"
     ]
    },
    {
     "data": {
      "text/plain": [
       "<Axes: label='conditions', ylabel='scan number'>"
      ]
     },
     "execution_count": 21,
     "metadata": {},
     "output_type": "execute_result"
    },
    {
     "data": {
      "image/png": "[encoded data removed]",
      "text/plain": [
       "<Figure size 238x1000 with 1 Axes>"
      ]
     },
     "metadata": {},
     "output_type": "display_data"
    }
   ],
   "source": [
    "# function to run contrast and glm\n",
    "def run_glm_contrast(fmri_img, data_path, tr):\n",
    "    \"\"\" \n",
    "    Run the glm on the fmri data and apply contrast\n",
    "    \"\"\"\n",
    "   \n",
    "    categorized_events = categorize_stimuli(data_path)\n",
    "    print(\"categorized_events: \", categorized_events)\n",
    "    \n",
    "    # Get GLM object \n",
    "    glm = fit_glm(fmri_img, categorized_events, tr)\n",
    "    \n",
    "    # Get design matrix\n",
    "    design_matrix = glm.design_matrices_[0]\n",
    "    design_matrix_columns = design_matrix.columns.tolist()\n",
    "    print(\"columns: \", design_matrix_columns)\n",
    "    design_matrix.columns = ['dummy', 'drift_1', 'drift_2', 'drift_3', 'drift_4', 'constant' ]\n",
    "    \n",
    "    # Compute contrasts\n",
    "    contrast_stimuli = contrast_glm_stimuli(glm, categorized_events, data_path)\n",
    "    contrast_conditions = contrast_glm_conditions(glm)\n",
    "    \n",
    "    return glm, design_matrix, contrast_stimuli, contrast_conditions\n",
    "\n",
    "# Run GLM and get results\n",
    "glm, design_matrix, contrast_stimuli, contrast_conditions = run_glm_contrast(fmri_img, data_path, tr)\n",
    "\n",
    "# Plot design matrix (not the contrast)\n",
    "plot_design_matrix(design_matrix)"
   ]
  }
 ],
 "metadata": {
  "kernelspec": {
   "display_name": "venv",
   "language": "python",
   "name": "python3"
  },
  "language_info": {
   "codemirror_mode": {
    "name": "ipython",
    "version": 3
   },
   "file_extension": ".py",
   "mimetype": "text/x-python",
   "name": "python",
   "nbconvert_exporter": "python",
   "pygments_lexer": "ipython3",
   "version": "3.11.6"
  }
 },
 "nbformat": 4,
 "nbformat_minor": 2
}
