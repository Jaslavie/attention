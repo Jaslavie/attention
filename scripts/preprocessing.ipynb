{
 "cells": [
  {
   "cell_type": "markdown",
   "metadata": {},
   "source": [
    "# Preprocessing\n",
    "Parse and clean fMRI data before running searchlight analysis"
   ]
  },
  {
   "cell_type": "code",
   "execution_count": 1,
   "metadata": {},
   "outputs": [],
   "source": [
    "# Import dependencies\n",
    "import numpy as np\n",
    "import nibabel as nib # load nifti files\n",
    "import glob # load files from a directory\n",
    "from nilearn import image, plotting\n",
    "from sklearn.svm import SVC \n",
    "from sklearn.model_selection import cross_val_score"
   ]
  },
  {
   "cell_type": "code",
   "execution_count": 2,
   "metadata": {},
   "outputs": [],
   "source": [
    "# Define paths\n",
    "import os\n",
    "data_path = \"../data\"\n",
    "results_path = \"../results\""
   ]
  },
  {
   "cell_type": "code",
   "execution_count": 5,
   "metadata": {},
   "outputs": [
    {
     "name": "stdout",
     "output_type": "stream",
     "text": [
      "Loaded: ../data/sub-213/anat/sub-213_acq-a_T1w.nii.gz\n",
      "Loaded: ../data/sub-213/anat/sub-213_acq-b_T1w.nii.gz\n",
      "Loaded: ../data/sub-214/anat/sub-214_acq-a_T1w.nii.gz\n",
      "Loaded: ../data/sub-219/anat/sub-219_acq-a_T1w.nii.gz\n",
      "Loaded: ../data/sub-219/anat/sub-219_acq-b_T1w.nii.gz\n",
      "Loaded: ../data/sub-221/anat/sub-221_acq-a_T1w.nii.gz\n",
      "Loaded: ../data/sub-220/anat/sub-220_acq-b_T1w.nii.gz\n",
      "Loaded: ../data/sub-220/anat/sub-220_acq-a_T1w.nii.gz\n",
      "Loaded: ../data/sub-218/anat/sub-218_acq-a_T1w.nii.gz\n",
      "Loaded: ../data/sub-218/anat/sub-218_acq-b_T1w.nii.gz\n",
      "10\n"
     ]
    }
   ],
   "source": [
    "def load_data(data_path):\n",
    "    \"\"\"\n",
    "    Load all fMRI data from the data directory\n",
    "    \"\"\"\n",
    "    # Check if the data path exists\n",
    "    if not os.path.exists(data_path):\n",
    "        raise ValueError(\"Data path does not exist\")\n",
    "    \n",
    "    dataset = []\n",
    "    data_path = os.path.join(data_path, '')\n",
    "    pattern = os.path.join(data_path, 'sub-*/anat/*.nii.gz')\n",
    "    files = glob.glob(pattern)\n",
    "\n",
    "    # Check if the file exists\n",
    "    if not files:\n",
    "        raise FileNotFoundError(\"No files found in the {pattern}\")\n",
    "    \n",
    "    for file in files:\n",
    "        try:\n",
    "            img = nib.load(file)\n",
    "            dataset.append(img)\n",
    "            print(f\"Successfully loaded: {file}\")\n",
    "        except Exception as e:\n",
    "            print(f\"Error loading {file}: {str(e)}\")\n",
    "            continue\n",
    "    \n",
    "    if not dataset:\n",
    "        raise ValueError(\"No valid NIfTI files found in the {pattern}\")\n",
    "        \n",
    "    return dataset\n",
    "\n",
    "data_path = \"../data\"\n",
    "dataset = load_data(data_path)\n",
    "print(len(dataset)) \n",
    "\n",
    "# Visualize the data\n",
    "def visualize_data(data):\n",
    "    \"\"\"\n",
    "    Visualize the data using nilearn's plotting functions\n",
    "    \"\"\"\n",
    "    # Extract the data array and affine matrix from the nifti object\n",
    "    data_array = data.get_fdata()\n",
    "    affine = data.affine\n",
    "    return data_array, affine\n",
    "\n",
    "# visualize_data(load_data(data_path)[0])\n",
    "\n"
   ]
  }
 ],
 "metadata": {
  "kernelspec": {
   "display_name": "Python 3",
   "language": "python",
   "name": "python3"
  },
  "language_info": {
   "codemirror_mode": {
    "name": "ipython",
    "version": 3
   },
   "file_extension": ".py",
   "mimetype": "text/x-python",
   "name": "python",
   "nbconvert_exporter": "python",
   "pygments_lexer": "ipython3",
   "version": "3.11.6"
  }
 },
 "nbformat": 4,
 "nbformat_minor": 2
}
